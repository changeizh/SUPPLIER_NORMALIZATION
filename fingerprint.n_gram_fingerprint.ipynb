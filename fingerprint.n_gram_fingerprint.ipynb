{
 "cells": [
  {
   "cell_type": "code",
   "execution_count": null,
   "metadata": {},
   "outputs": [],
   "source": [
    "# if __name__ == '__main__':\n",
    "#     f = fingerprinter('Tom Cruise')\n",
    "#     print(f.get_fingerprint())\n",
    "#     print(f.get_ngram_fingerprint(n=1))\n",
    "\n",
    "#     f = fingerprinter('Cruise, Tom')\n",
    "#     print(f.get_fingerprint())\n",
    "#     print(f.get_ngram_fingerprint(n=1))\n",
    "\n",
    "#     f = fingerprinter('Cruise, Tom')\n",
    "#     print(f.get_fingerprint())\n",
    "#     print(f.get_ngram_fingerprint(n=2))\n",
    "# #############\n",
    "# import re\n",
    "# seps = [' ',';',':','.',',','*','#','@','|','\\\\','-','_','?','%','!','^','(',')','$','=','+','\"','<','>',\"'\",'&', ' AND ', ' and ']\n",
    "# default_sep = seps[0]\n",
    "# value = str(value)\n",
    "# for sep in seps[1:]:\n",
    "#     if value.isnumeric():\n",
    "#         value = 'NUMBERS'\n",
    "#     else:\n",
    "#         value = value.upper()\n",
    "#         value = value.replace(sep, default_sep)\n",
    "# re.sub(' +', ' ', value)\n",
    "# temp_list = [i.strip() for i in value.split(default_sep)]\n",
    "# temp_list = [i for i in temp_list if i]\n",
    "# return \" \".join(temp_list)"
   ]
  },
  {
   "cell_type": "code",
   "execution_count": 1,
   "metadata": {},
   "outputs": [],
   "source": [
    "import re, string\n",
    "import pandas as pd\n",
    "from unidecode  import unidecode\n",
    "from cleanco import cleanco"
   ]
  },
  {
   "cell_type": "code",
   "execution_count": 2,
   "metadata": {},
   "outputs": [],
   "source": [
    "punctuation = re.compile('[%s]' % re.escape(string.punctuation))"
   ]
  },
  {
   "cell_type": "code",
   "execution_count": 187,
   "metadata": {},
   "outputs": [],
   "source": [
    "def cleansing_special_characters(txt):\n",
    "    seps = [' ',';',':','.',',','*','#','@','|','\\\\','-','_','?','%','!','^','(',')','$','=','+','\"','<','>',\"'\",' AND ', ' and ']\n",
    "    default_sep = seps[0]\n",
    "    txt = str(txt)\n",
    "    for sep in seps[1:]:\n",
    "        if sep == \" AND \" or sep == \" and \":\n",
    "            txt = txt.upper()\n",
    "            txt = txt.replace(sep, ' & ')\n",
    "        else:\n",
    "            txt = txt.upper()\n",
    "            txt = txt.replace(sep, default_sep)\n",
    "    try :\n",
    "        list(map(int,txt.split()))\n",
    "        txt = 'NUMBERS'\n",
    "    except:\n",
    "        pass\n",
    "    txt = re.sub(' +', ' ', txt)\n",
    "    temp_list = [i.strip() for i in txt.split(default_sep)]\n",
    "    temp_list = [i for i in temp_list if i]\n",
    "    return \" \".join(temp_list)\n",
    "\n",
    "\n",
    "# remove suffix\n",
    "# terms = prepare_terms()\n",
    "def  remove_suffix(txt):\n",
    "    x = cleanco(txt)\n",
    "    y = x.clean_name()\n",
    "    t = x.type()\n",
    "    z = cleanco(y)\n",
    "    final = z.clean_name()\n",
    "    t1 = x.type()\n",
    "    return final, \" \".join(t1)\n",
    "\n",
    "\n",
    "#########################################################\n",
    "def find_suffix(x,y):\n",
    "    x = str(x)\n",
    "    y = str(y)\n",
    "    x = re.sub(' +', ' ', x)\n",
    "    y = re.sub(' +', ' ', y)\n",
    "    x = x.split(' ')\n",
    "    y = y.split(' ')\n",
    "    not_in_y = [i for i in x if i not in y]\n",
    "    return ' '.join(not_in_y)\n",
    "\n",
    "###########################################################\n",
    "class fingerprinter(object):\n",
    "    \n",
    "    # __init__function\n",
    "    \n",
    "    def __init__(self, string):\n",
    "        self.string = self._preprocess(string)\n",
    "        \n",
    "    \n",
    "    # strip leading, trailing spaces and to lower case\n",
    "    def _preprocess(self, string):\n",
    "        return punctuation.sub('',string.strip().lower())\n",
    "    \n",
    "        \n",
    "    def _latinize(self, string):\n",
    "        return unidecode(string)\n",
    "#         return unidecode(string.decode('utf-8'))\n",
    "    \n",
    "    def _unique_preserve_order(self,seq):\n",
    "        seen = set()\n",
    "        seen_add = seen.add\n",
    "        return [x for x in seq if not (x in seen or seen_add(x))]\n",
    "\n",
    "    \n",
    "    #-####################################################\n",
    "    def get_fingerprint(self):\n",
    "        return self._latinize(' '.join(self._unique_preserve_order(sorted(self.string.split()))))\n",
    "    \n",
    "    ######################################################\n",
    "    def get_ngram_fingerprint(self, n=1):\n",
    "        return self._latinize(''.join(self._unique_preserve_order(sorted([self.string[i:i + n] for i in range(len(self.string) - n +1)]))))\n",
    "    \n",
    "    "
   ]
  },
  {
   "cell_type": "code",
   "execution_count": 12,
   "metadata": {},
   "outputs": [],
   "source": [
    "df = pd.read_excel('Fingerprint test.xlsx')\n",
    "df['clean'] = df['Supp_Name'].apply(cleansing_special_characters)\n",
    "df['no_suffix'] = df['clean'].apply(remove_suffix)\n",
    "df['suffix'] = df[['clean','no_suffix']].apply(lambda x :find_suffix(x.clean, x.no_suffix), axis =1)\n",
    "df['fingerprint'] = df['no_suffix'].apply(lambda x : fingerprinter(x).get_fingerprint())\n",
    "df['n_gram_fingerprint_n=1'] = df['no_suffix'].apply(lambda x : fingerprinter(x.replace(' ','')).get_ngram_fingerprint())\n",
    "df['n_gram_fingerprint_n=2'] = df['no_suffix'].apply(lambda x : fingerprinter(x.replace(' ','')).get_ngram_fingerprint(n=2))\n",
    "df['n_gram_fingerprint_n=3'] = df['no_suffix'].apply(lambda x : fingerprinter(x.replace(' ','')).get_ngram_fingerprint(n=3))\n",
    "df.to_excel('fingerprinter_output.xlsx', index = False)\n",
    "df2 = df.drop_duplicates(subset=['fingerprint','n_gram_fingerprint_n=1'])\n",
    "df2.to_excel('fingerprint_rem_duplicates.xlsx', index = False)"
   ]
  },
  {
   "cell_type": "code",
   "execution_count": 8,
   "metadata": {},
   "outputs": [],
   "source": [
    "df = pd.read_excel('Fingerprint test.xlsx')\n",
    "df['fingerprint'] = df['Supp_Name'].apply(lambda x : fingerprinter(x).get_fingerprint())\n",
    "df['n_gram_fingerprint_n=2'] = df['Supp_Name'].apply(lambda x : fingerprinter(x.replace(' ','')).get_ngram_fingerprint(n=2))"
   ]
  },
  {
   "cell_type": "code",
   "execution_count": 123,
   "metadata": {},
   "outputs": [
    {
     "ename": "KeyError",
     "evalue": "'Passing list-likes to .loc or [] with any missing labels is no longer supported, see https://pandas.pydata.org/pandas-docs/stable/user_guide/indexing.html#deprecate-loc-reindex-listlike'",
     "output_type": "error",
     "traceback": [
      "\u001b[1;31m---------------------------------------------------------------------------\u001b[0m",
      "\u001b[1;31mKeyError\u001b[0m                                  Traceback (most recent call last)",
      "\u001b[1;32m<ipython-input-123-b3284bb53641>\u001b[0m in \u001b[0;36m<module>\u001b[1;34m\u001b[0m\n\u001b[1;32m----> 1\u001b[1;33m \u001b[0mdf\u001b[0m\u001b[1;33m[\u001b[0m\u001b[1;33m[\u001b[0m\u001b[1;34m'no_suffix'\u001b[0m\u001b[1;33m,\u001b[0m\u001b[1;34m'full_suffix'\u001b[0m\u001b[1;33m]\u001b[0m\u001b[1;33m]\u001b[0m \u001b[1;33m=\u001b[0m \u001b[0mdf\u001b[0m\u001b[1;33m[\u001b[0m\u001b[1;34m'clean'\u001b[0m\u001b[1;33m]\u001b[0m\u001b[1;33m.\u001b[0m\u001b[0mapply\u001b[0m\u001b[1;33m(\u001b[0m\u001b[0mremove_suffix\u001b[0m\u001b[1;33m)\u001b[0m\u001b[1;33m\u001b[0m\u001b[1;33m\u001b[0m\u001b[0m\n\u001b[0m",
      "\u001b[1;32m~\\anaconda3\\lib\\site-packages\\pandas\\core\\frame.py\u001b[0m in \u001b[0;36m__setitem__\u001b[1;34m(self, key, value)\u001b[0m\n\u001b[0;32m   2933\u001b[0m             \u001b[0mself\u001b[0m\u001b[1;33m.\u001b[0m\u001b[0m_setitem_frame\u001b[0m\u001b[1;33m(\u001b[0m\u001b[0mkey\u001b[0m\u001b[1;33m,\u001b[0m \u001b[0mvalue\u001b[0m\u001b[1;33m)\u001b[0m\u001b[1;33m\u001b[0m\u001b[1;33m\u001b[0m\u001b[0m\n\u001b[0;32m   2934\u001b[0m         \u001b[1;32melif\u001b[0m \u001b[0misinstance\u001b[0m\u001b[1;33m(\u001b[0m\u001b[0mkey\u001b[0m\u001b[1;33m,\u001b[0m \u001b[1;33m(\u001b[0m\u001b[0mSeries\u001b[0m\u001b[1;33m,\u001b[0m \u001b[0mnp\u001b[0m\u001b[1;33m.\u001b[0m\u001b[0mndarray\u001b[0m\u001b[1;33m,\u001b[0m \u001b[0mlist\u001b[0m\u001b[1;33m,\u001b[0m \u001b[0mIndex\u001b[0m\u001b[1;33m)\u001b[0m\u001b[1;33m)\u001b[0m\u001b[1;33m:\u001b[0m\u001b[1;33m\u001b[0m\u001b[1;33m\u001b[0m\u001b[0m\n\u001b[1;32m-> 2935\u001b[1;33m             \u001b[0mself\u001b[0m\u001b[1;33m.\u001b[0m\u001b[0m_setitem_array\u001b[0m\u001b[1;33m(\u001b[0m\u001b[0mkey\u001b[0m\u001b[1;33m,\u001b[0m \u001b[0mvalue\u001b[0m\u001b[1;33m)\u001b[0m\u001b[1;33m\u001b[0m\u001b[1;33m\u001b[0m\u001b[0m\n\u001b[0m\u001b[0;32m   2936\u001b[0m         \u001b[1;32melse\u001b[0m\u001b[1;33m:\u001b[0m\u001b[1;33m\u001b[0m\u001b[1;33m\u001b[0m\u001b[0m\n\u001b[0;32m   2937\u001b[0m             \u001b[1;31m# set column\u001b[0m\u001b[1;33m\u001b[0m\u001b[1;33m\u001b[0m\u001b[1;33m\u001b[0m\u001b[0m\n",
      "\u001b[1;32m~\\anaconda3\\lib\\site-packages\\pandas\\core\\frame.py\u001b[0m in \u001b[0;36m_setitem_array\u001b[1;34m(self, key, value)\u001b[0m\n\u001b[0;32m   2964\u001b[0m             \u001b[1;32melse\u001b[0m\u001b[1;33m:\u001b[0m\u001b[1;33m\u001b[0m\u001b[1;33m\u001b[0m\u001b[0m\n\u001b[0;32m   2965\u001b[0m                 indexer = self.loc._get_listlike_indexer(\n\u001b[1;32m-> 2966\u001b[1;33m                     \u001b[0mkey\u001b[0m\u001b[1;33m,\u001b[0m \u001b[0maxis\u001b[0m\u001b[1;33m=\u001b[0m\u001b[1;36m1\u001b[0m\u001b[1;33m,\u001b[0m \u001b[0mraise_missing\u001b[0m\u001b[1;33m=\u001b[0m\u001b[1;32mFalse\u001b[0m\u001b[1;33m\u001b[0m\u001b[1;33m\u001b[0m\u001b[0m\n\u001b[0m\u001b[0;32m   2967\u001b[0m                 )[1]\n\u001b[0;32m   2968\u001b[0m                 \u001b[0mself\u001b[0m\u001b[1;33m.\u001b[0m\u001b[0m_check_setitem_copy\u001b[0m\u001b[1;33m(\u001b[0m\u001b[1;33m)\u001b[0m\u001b[1;33m\u001b[0m\u001b[1;33m\u001b[0m\u001b[0m\n",
      "\u001b[1;32m~\\anaconda3\\lib\\site-packages\\pandas\\core\\indexing.py\u001b[0m in \u001b[0;36m_get_listlike_indexer\u001b[1;34m(self, key, axis, raise_missing)\u001b[0m\n\u001b[0;32m   1550\u001b[0m \u001b[1;33m\u001b[0m\u001b[0m\n\u001b[0;32m   1551\u001b[0m         self._validate_read_indexer(\n\u001b[1;32m-> 1552\u001b[1;33m             \u001b[0mkeyarr\u001b[0m\u001b[1;33m,\u001b[0m \u001b[0mindexer\u001b[0m\u001b[1;33m,\u001b[0m \u001b[0mo\u001b[0m\u001b[1;33m.\u001b[0m\u001b[0m_get_axis_number\u001b[0m\u001b[1;33m(\u001b[0m\u001b[0maxis\u001b[0m\u001b[1;33m)\u001b[0m\u001b[1;33m,\u001b[0m \u001b[0mraise_missing\u001b[0m\u001b[1;33m=\u001b[0m\u001b[0mraise_missing\u001b[0m\u001b[1;33m\u001b[0m\u001b[1;33m\u001b[0m\u001b[0m\n\u001b[0m\u001b[0;32m   1553\u001b[0m         )\n\u001b[0;32m   1554\u001b[0m         \u001b[1;32mreturn\u001b[0m \u001b[0mkeyarr\u001b[0m\u001b[1;33m,\u001b[0m \u001b[0mindexer\u001b[0m\u001b[1;33m\u001b[0m\u001b[1;33m\u001b[0m\u001b[0m\n",
      "\u001b[1;32m~\\anaconda3\\lib\\site-packages\\pandas\\core\\indexing.py\u001b[0m in \u001b[0;36m_validate_read_indexer\u001b[1;34m(self, key, indexer, axis, raise_missing)\u001b[0m\n\u001b[0;32m   1652\u001b[0m             \u001b[1;32mif\u001b[0m \u001b[1;32mnot\u001b[0m \u001b[1;33m(\u001b[0m\u001b[0max\u001b[0m\u001b[1;33m.\u001b[0m\u001b[0mis_categorical\u001b[0m\u001b[1;33m(\u001b[0m\u001b[1;33m)\u001b[0m \u001b[1;32mor\u001b[0m \u001b[0max\u001b[0m\u001b[1;33m.\u001b[0m\u001b[0mis_interval\u001b[0m\u001b[1;33m(\u001b[0m\u001b[1;33m)\u001b[0m\u001b[1;33m)\u001b[0m\u001b[1;33m:\u001b[0m\u001b[1;33m\u001b[0m\u001b[1;33m\u001b[0m\u001b[0m\n\u001b[0;32m   1653\u001b[0m                 raise KeyError(\n\u001b[1;32m-> 1654\u001b[1;33m                     \u001b[1;34m\"Passing list-likes to .loc or [] with any missing labels \"\u001b[0m\u001b[1;33m\u001b[0m\u001b[1;33m\u001b[0m\u001b[0m\n\u001b[0m\u001b[0;32m   1655\u001b[0m                     \u001b[1;34m\"is no longer supported, see \"\u001b[0m\u001b[1;33m\u001b[0m\u001b[1;33m\u001b[0m\u001b[0m\n\u001b[0;32m   1656\u001b[0m                     \u001b[1;34m\"https://pandas.pydata.org/pandas-docs/stable/user_guide/indexing.html#deprecate-loc-reindex-listlike\"\u001b[0m  \u001b[1;31m# noqa:E501\u001b[0m\u001b[1;33m\u001b[0m\u001b[1;33m\u001b[0m\u001b[0m\n",
      "\u001b[1;31mKeyError\u001b[0m: 'Passing list-likes to .loc or [] with any missing labels is no longer supported, see https://pandas.pydata.org/pandas-docs/stable/user_guide/indexing.html#deprecate-loc-reindex-listlike'"
     ]
    }
   ],
   "source": [
    "df[['no_suffix','full_suffix']] = df['clean'].apply(remove_suffix)"
   ]
  },
  {
   "cell_type": "code",
   "execution_count": 119,
   "metadata": {},
   "outputs": [
    {
     "name": "stdout",
     "output_type": "stream",
     "text": [
      "[]\n"
     ]
    }
   ],
   "source": [
    "txt = 'HZ YIU SING APPAREL ACCESSORIES'\n",
    "first = cleanco(txt).clean_name()\n",
    "print(cleanco(txt).type())"
   ]
  },
  {
   "cell_type": "code",
   "execution_count": 120,
   "metadata": {},
   "outputs": [
    {
     "data": {
      "text/plain": [
       "'HZ YIU SING APPAREL ACCESSORIES'"
      ]
     },
     "execution_count": 120,
     "metadata": {},
     "output_type": "execute_result"
    }
   ],
   "source": [
    "first"
   ]
  },
  {
   "cell_type": "code",
   "execution_count": 121,
   "metadata": {},
   "outputs": [],
   "source": [
    "name = '001 20/ESA PRASOL 02 '"
   ]
  },
  {
   "cell_type": "code",
   "execution_count": 199,
   "metadata": {},
   "outputs": [
    {
     "data": {
      "text/plain": [
       "'001 20/ESA PRASOL 02'"
      ]
     },
     "execution_count": 199,
     "metadata": {},
     "output_type": "execute_result"
    }
   ],
   "source": [
    "cleansing_special_characters('001 20/ESA PRASOL 02 ')"
   ]
  },
  {
   "cell_type": "code",
   "execution_count": 166,
   "metadata": {},
   "outputs": [
    {
     "data": {
      "text/plain": [
       "False"
      ]
     },
     "execution_count": 166,
     "metadata": {},
     "output_type": "execute_result"
    }
   ],
   "source": [
    "txt = '12324  .3546'\n",
    "seps = [' ',';',':','.',',','*','#','@','|','\\\\','-','_','?','%','!','^','(',')','$','=','+','\"','<','>',\"'\",' AND ', ' and ']\n",
    "default_sep = seps[0]\n",
    "txt = str(txt)\n",
    "for sep in seps[1:]:\n",
    "    if sep == \" AND \" or sep == \" and \":\n",
    "        txt = txt.upper()\n",
    "        txt = txt.replace(sep, ' & ')\n",
    "    else:\n",
    "        txt = txt.upper()\n",
    "        txt = txt.replace(sep, default_sep)\n",
    "all(isinstance(x, int) for x in txt.split(' '))"
   ]
  },
  {
   "cell_type": "code",
   "execution_count": 186,
   "metadata": {},
   "outputs": [
    {
     "name": "stdout",
     "output_type": "stream",
     "text": [
      "NUMBERS\n"
     ]
    }
   ],
   "source": [
    "txt = '12324  4865'\n",
    "try :\n",
    "    list(map(int,txt.split()))\n",
    "    print('NUMBERS')\n",
    "except:\n",
    "    print('NOT NUMBERS')"
   ]
  },
  {
   "cell_type": "code",
   "execution_count": 162,
   "metadata": {},
   "outputs": [
    {
     "data": {
      "text/plain": [
       "'12324   3546'"
      ]
     },
     "execution_count": 162,
     "metadata": {},
     "output_type": "execute_result"
    }
   ],
   "source": [
    "txt"
   ]
  },
  {
   "cell_type": "code",
   "execution_count": null,
   "metadata": {},
   "outputs": [],
   "source": []
  }
 ],
 "metadata": {
  "kernelspec": {
   "display_name": "Python 3",
   "language": "python",
   "name": "python3"
  },
  "language_info": {
   "codemirror_mode": {
    "name": "ipython",
    "version": 3
   },
   "file_extension": ".py",
   "mimetype": "text/x-python",
   "name": "python",
   "nbconvert_exporter": "python",
   "pygments_lexer": "ipython3",
   "version": "3.7.6"
  }
 },
 "nbformat": 4,
 "nbformat_minor": 4
}
