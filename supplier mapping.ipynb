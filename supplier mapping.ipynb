{
 "cells": [
  {
   "cell_type": "code",
   "execution_count": 3,
   "metadata": {},
   "outputs": [],
   "source": [
    "def cleansing_special_characters(txt):\n",
    "    seps = [' ',';',':','.',',','*','#','@','|','\\\\','-','_','?','%','!','^','(',')','$','=','+','\"','<','>',\"'\",' AND ', ' and ']\n",
    "    default_sep = seps[0]\n",
    "    txt = str(txt)\n",
    "    for sep in seps[1:]:\n",
    "        if sep == \" AND \" or sep == \" and \":\n",
    "            txt = txt.upper()\n",
    "            txt = txt.replace(sep, ' & ')\n",
    "        else:\n",
    "            txt = txt.upper()\n",
    "            txt = txt.replace(sep, default_sep)\n",
    "    try :\n",
    "        list(map(int,txt.split()))\n",
    "        txt = 'NUMBERS'\n",
    "    except:\n",
    "        pass\n",
    "    txt = re.sub(' +', ' ', txt)\n",
    "    temp_list = [i.strip() for i in txt.split(default_sep)]\n",
    "    temp_list = [i for i in temp_list if i]\n",
    "    return \" \".join(temp_list)"
   ]
  },
  {
   "cell_type": "code",
   "execution_count": 4,
   "metadata": {},
   "outputs": [],
   "source": [
    "from sqlalchemy import create_engine, MetaData, Table, select\n",
    "import pandas as pd\n",
    "import pyodbc\n",
    "import re, string\n",
    "from unidecode  import unidecode\n",
    "from cleanco import cleanco\n",
    "from sqlalchemy import event"
   ]
  },
  {
   "cell_type": "code",
   "execution_count": 5,
   "metadata": {},
   "outputs": [],
   "source": [
    "engine = create_engine('mssql+pyodbc://seair:se@ir1234@192.168.1.47/tempEXIM?driver=SQL+Server+Native+Client+11.0')\n",
    "conn = pyodbc.connect('Driver={SQL Server Native Client 11.0}; Server=192.168.1.47; uid=seair; pwd=se@ir1234; Database = tempEXIM; Trusted_Connection = No')"
   ]
  },
  {
   "cell_type": "code",
   "execution_count": 6,
   "metadata": {},
   "outputs": [],
   "source": [
    "df = pd.read_sql('select * from tempEXIM..Supp_All_Clean',conn)"
   ]
  },
  {
   "cell_type": "code",
   "execution_count": 5,
   "metadata": {},
   "outputs": [],
   "source": [
    "# df['Supp_Name'] = df['Supp_Name'].apply(cleansing_special_characters)"
   ]
  },
  {
   "cell_type": "code",
   "execution_count": 7,
   "metadata": {},
   "outputs": [
    {
     "data": {
      "text/html": [
       "<div>\n",
       "<style scoped>\n",
       "    .dataframe tbody tr th:only-of-type {\n",
       "        vertical-align: middle;\n",
       "    }\n",
       "\n",
       "    .dataframe tbody tr th {\n",
       "        vertical-align: top;\n",
       "    }\n",
       "\n",
       "    .dataframe thead th {\n",
       "        text-align: right;\n",
       "    }\n",
       "</style>\n",
       "<table border=\"1\" class=\"dataframe\">\n",
       "  <thead>\n",
       "    <tr style=\"text-align: right;\">\n",
       "      <th></th>\n",
       "      <th>ImportSpcID</th>\n",
       "      <th>Supp_Name</th>\n",
       "      <th>SOUNDEX_CODE</th>\n",
       "    </tr>\n",
       "  </thead>\n",
       "  <tbody>\n",
       "    <tr>\n",
       "      <th>0</th>\n",
       "      <td>1</td>\n",
       "      <td>YIWU GENG WEI COMMODITY PURCHASE CO</td>\n",
       "      <td>Y000</td>\n",
       "    </tr>\n",
       "    <tr>\n",
       "      <th>1</th>\n",
       "      <td>2</td>\n",
       "      <td>YIWU GENG WEI COMMODITY PURCHASE CO</td>\n",
       "      <td>Y000</td>\n",
       "    </tr>\n",
       "    <tr>\n",
       "      <th>2</th>\n",
       "      <td>3</td>\n",
       "      <td>YIWU GENG WEI COMMODITY PURCHASE CO</td>\n",
       "      <td>Y000</td>\n",
       "    </tr>\n",
       "    <tr>\n",
       "      <th>3</th>\n",
       "      <td>4</td>\n",
       "      <td>YIWU GENG WEI COMMODITY PURCHASE CO</td>\n",
       "      <td>Y000</td>\n",
       "    </tr>\n",
       "    <tr>\n",
       "      <th>4</th>\n",
       "      <td>5</td>\n",
       "      <td>SEW EURODRIVE GMBH &amp; CO KG</td>\n",
       "      <td>S000</td>\n",
       "    </tr>\n",
       "    <tr>\n",
       "      <th>5</th>\n",
       "      <td>6</td>\n",
       "      <td>SEW EURODRIVE GMBH &amp; CO KG</td>\n",
       "      <td>S000</td>\n",
       "    </tr>\n",
       "    <tr>\n",
       "      <th>6</th>\n",
       "      <td>7</td>\n",
       "      <td>SEW EURODRIVE GMBH &amp; CO KG</td>\n",
       "      <td>S000</td>\n",
       "    </tr>\n",
       "    <tr>\n",
       "      <th>7</th>\n",
       "      <td>8</td>\n",
       "      <td>SEW EURODRIVE GMBH &amp; CO KG</td>\n",
       "      <td>S000</td>\n",
       "    </tr>\n",
       "    <tr>\n",
       "      <th>8</th>\n",
       "      <td>9</td>\n",
       "      <td>SEW EURODRIVE GMBH &amp; CO KG</td>\n",
       "      <td>S000</td>\n",
       "    </tr>\n",
       "    <tr>\n",
       "      <th>9</th>\n",
       "      <td>10</td>\n",
       "      <td>SEW EURODRIVE GMBH &amp; CO KG</td>\n",
       "      <td>S000</td>\n",
       "    </tr>\n",
       "  </tbody>\n",
       "</table>\n",
       "</div>"
      ],
      "text/plain": [
       "   ImportSpcID                            Supp_Name SOUNDEX_CODE\n",
       "0            1  YIWU GENG WEI COMMODITY PURCHASE CO         Y000\n",
       "1            2  YIWU GENG WEI COMMODITY PURCHASE CO         Y000\n",
       "2            3  YIWU GENG WEI COMMODITY PURCHASE CO         Y000\n",
       "3            4  YIWU GENG WEI COMMODITY PURCHASE CO         Y000\n",
       "4            5           SEW EURODRIVE GMBH & CO KG         S000\n",
       "5            6           SEW EURODRIVE GMBH & CO KG         S000\n",
       "6            7           SEW EURODRIVE GMBH & CO KG         S000\n",
       "7            8           SEW EURODRIVE GMBH & CO KG         S000\n",
       "8            9           SEW EURODRIVE GMBH & CO KG         S000\n",
       "9           10           SEW EURODRIVE GMBH & CO KG         S000"
      ]
     },
     "execution_count": 7,
     "metadata": {},
     "output_type": "execute_result"
    }
   ],
   "source": [
    "df.head(10)"
   ]
  },
  {
   "cell_type": "code",
   "execution_count": 7,
   "metadata": {},
   "outputs": [],
   "source": [
    "# conn1 = engine.connect()"
   ]
  },
  {
   "cell_type": "code",
   "execution_count": 8,
   "metadata": {},
   "outputs": [],
   "source": [
    "# metadata = MetaData(conn1)"
   ]
  },
  {
   "cell_type": "code",
   "execution_count": 12,
   "metadata": {},
   "outputs": [],
   "source": [
    "# df.to_sql('Supp_All_Clean', engine, index=False, if_exists=\"append\", schema=\"dbo\", chunksize = 1000, method='multi')"
   ]
  },
  {
   "cell_type": "code",
   "execution_count": 8,
   "metadata": {},
   "outputs": [
    {
     "data": {
      "text/plain": [
       "343333"
      ]
     },
     "execution_count": 8,
     "metadata": {},
     "output_type": "execute_result"
    }
   ],
   "source": [
    "len(df['Supp_Name'].unique())"
   ]
  },
  {
   "cell_type": "code",
   "execution_count": 60,
   "metadata": {},
   "outputs": [],
   "source": [
    "# df_merge =pd.merge(df1,df, how='left', on= ['Company_Name','SOUNDEX_CODE'])"
   ]
  },
  {
   "cell_type": "code",
   "execution_count": 22,
   "metadata": {},
   "outputs": [],
   "source": [
    "df_unique = df[['Supp_Name','SOUNDEX_CODE']].copy()"
   ]
  },
  {
   "cell_type": "code",
   "execution_count": 24,
   "metadata": {},
   "outputs": [],
   "source": [
    "df_unique.drop_duplicates(subset='Supp_Name', inplace=True)"
   ]
  },
  {
   "cell_type": "code",
   "execution_count": 26,
   "metadata": {},
   "outputs": [],
   "source": [
    "df_unique.reset_index(level=0, inplace=True)"
   ]
  },
  {
   "cell_type": "code",
   "execution_count": 36,
   "metadata": {},
   "outputs": [],
   "source": [
    "df_unique['M/S'] = df_unique['Supp_Name'].str.contains('M/S')\n",
    "df_unique.to_excel('Unique_Supp_Name-2020.xlsx', index=True)"
   ]
  },
  {
   "cell_type": "code",
   "execution_count": 34,
   "metadata": {},
   "outputs": [],
   "source": []
  },
  {
   "cell_type": "code",
   "execution_count": 35,
   "metadata": {},
   "outputs": [
    {
     "data": {
      "text/html": [
       "<div>\n",
       "<style scoped>\n",
       "    .dataframe tbody tr th:only-of-type {\n",
       "        vertical-align: middle;\n",
       "    }\n",
       "\n",
       "    .dataframe tbody tr th {\n",
       "        vertical-align: top;\n",
       "    }\n",
       "\n",
       "    .dataframe thead th {\n",
       "        text-align: right;\n",
       "    }\n",
       "</style>\n",
       "<table border=\"1\" class=\"dataframe\">\n",
       "  <thead>\n",
       "    <tr style=\"text-align: right;\">\n",
       "      <th></th>\n",
       "      <th>index</th>\n",
       "      <th>Supp_Name</th>\n",
       "      <th>SOUNDEX_CODE</th>\n",
       "      <th>M/S</th>\n",
       "    </tr>\n",
       "  </thead>\n",
       "  <tbody>\n",
       "    <tr>\n",
       "      <th>0</th>\n",
       "      <td>0</td>\n",
       "      <td>YIWU GENG WEI COMMODITY PURCHASE CO</td>\n",
       "      <td>Y000</td>\n",
       "      <td>False</td>\n",
       "    </tr>\n",
       "    <tr>\n",
       "      <th>1</th>\n",
       "      <td>4</td>\n",
       "      <td>SEW EURODRIVE GMBH &amp; CO KG</td>\n",
       "      <td>S000</td>\n",
       "      <td>False</td>\n",
       "    </tr>\n",
       "    <tr>\n",
       "      <th>2</th>\n",
       "      <td>49</td>\n",
       "      <td>PAM TRADING CORP</td>\n",
       "      <td>P500</td>\n",
       "      <td>False</td>\n",
       "    </tr>\n",
       "    <tr>\n",
       "      <th>3</th>\n",
       "      <td>54</td>\n",
       "      <td>MORGAN AM&amp;T SHANGHAI CO LTD</td>\n",
       "      <td>M625</td>\n",
       "      <td>False</td>\n",
       "    </tr>\n",
       "    <tr>\n",
       "      <th>4</th>\n",
       "      <td>55</td>\n",
       "      <td>GROZ BECKERT KG</td>\n",
       "      <td>G620</td>\n",
       "      <td>False</td>\n",
       "    </tr>\n",
       "    <tr>\n",
       "      <th>...</th>\n",
       "      <td>...</td>\n",
       "      <td>...</td>\n",
       "      <td>...</td>\n",
       "      <td>...</td>\n",
       "    </tr>\n",
       "    <tr>\n",
       "      <th>343328</th>\n",
       "      <td>22451283</td>\n",
       "      <td>KENJET TECHNOLGOY CO LTD</td>\n",
       "      <td>K523</td>\n",
       "      <td>False</td>\n",
       "    </tr>\n",
       "    <tr>\n",
       "      <th>343329</th>\n",
       "      <td>22451842</td>\n",
       "      <td>UNISYS CO LTD</td>\n",
       "      <td>U522</td>\n",
       "      <td>False</td>\n",
       "    </tr>\n",
       "    <tr>\n",
       "      <th>343330</th>\n",
       "      <td>22452043</td>\n",
       "      <td>PHARMACARE PREMIUM LTD</td>\n",
       "      <td>P652</td>\n",
       "      <td>False</td>\n",
       "    </tr>\n",
       "    <tr>\n",
       "      <th>343331</th>\n",
       "      <td>22452045</td>\n",
       "      <td>BPREX HEALTHCAREBROOKVILLE INC</td>\n",
       "      <td>B620</td>\n",
       "      <td>False</td>\n",
       "    </tr>\n",
       "    <tr>\n",
       "      <th>343332</th>\n",
       "      <td>22452047</td>\n",
       "      <td>WEST PHARMACEUTICAL SERVICES SINGAPORE PTE/LTD</td>\n",
       "      <td>W230</td>\n",
       "      <td>False</td>\n",
       "    </tr>\n",
       "  </tbody>\n",
       "</table>\n",
       "<p>343333 rows × 4 columns</p>\n",
       "</div>"
      ],
      "text/plain": [
       "           index                                       Supp_Name SOUNDEX_CODE  \\\n",
       "0              0             YIWU GENG WEI COMMODITY PURCHASE CO         Y000   \n",
       "1              4                      SEW EURODRIVE GMBH & CO KG         S000   \n",
       "2             49                                PAM TRADING CORP         P500   \n",
       "3             54                     MORGAN AM&T SHANGHAI CO LTD         M625   \n",
       "4             55                                 GROZ BECKERT KG         G620   \n",
       "...          ...                                             ...          ...   \n",
       "343328  22451283                        KENJET TECHNOLGOY CO LTD         K523   \n",
       "343329  22451842                                   UNISYS CO LTD         U522   \n",
       "343330  22452043                          PHARMACARE PREMIUM LTD         P652   \n",
       "343331  22452045                  BPREX HEALTHCAREBROOKVILLE INC         B620   \n",
       "343332  22452047  WEST PHARMACEUTICAL SERVICES SINGAPORE PTE/LTD         W230   \n",
       "\n",
       "          M/S  \n",
       "0       False  \n",
       "1       False  \n",
       "2       False  \n",
       "3       False  \n",
       "4       False  \n",
       "...       ...  \n",
       "343328  False  \n",
       "343329  False  \n",
       "343330  False  \n",
       "343331  False  \n",
       "343332  False  \n",
       "\n",
       "[343333 rows x 4 columns]"
      ]
     },
     "execution_count": 35,
     "metadata": {},
     "output_type": "execute_result"
    }
   ],
   "source": []
  },
  {
   "cell_type": "code",
   "execution_count": null,
   "metadata": {},
   "outputs": [],
   "source": []
  }
 ],
 "metadata": {
  "kernelspec": {
   "display_name": "Python 3",
   "language": "python",
   "name": "python3"
  },
  "language_info": {
   "codemirror_mode": {
    "name": "ipython",
    "version": 3
   },
   "file_extension": ".py",
   "mimetype": "text/x-python",
   "name": "python",
   "nbconvert_exporter": "python",
   "pygments_lexer": "ipython3",
   "version": "3.7.6"
  }
 },
 "nbformat": 4,
 "nbformat_minor": 4
}
