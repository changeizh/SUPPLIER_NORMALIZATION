{
 "cells": [
  {
   "cell_type": "code",
   "execution_count": 1,
   "metadata": {},
   "outputs": [],
   "source": [
    "import pandas as pd"
   ]
  },
  {
   "cell_type": "code",
   "execution_count": 5,
   "metadata": {},
   "outputs": [],
   "source": [
    "df_city = pd.read_excel(\"C:\\\\Users\\\\Manish\\\\Desktop\\\\PIN\\\\Pincode_30052019.xlsx\")\n",
    "# C:\\Users\\Manish\\Desktop\\PIN"
   ]
  },
  {
   "cell_type": "code",
   "execution_count": 6,
   "metadata": {},
   "outputs": [],
   "source": [
    "df_tbm = pd.read_excel(\"C:\\\\Users\\\\Manish\\\\Desktop\\\\PIN\\\\Add_City_pin_tbffffffffffff.xlsx\")"
   ]
  },
  {
   "cell_type": "code",
   "execution_count": 19,
   "metadata": {},
   "outputs": [],
   "source": [
    "df_city[['0','1','2','3','4','5']] = df_city.Locality.str.split(\" \", n = 5, expand = True) "
   ]
  },
  {
   "cell_type": "code",
   "execution_count": 21,
   "metadata": {},
   "outputs": [],
   "source": [
    "# df_city.to_excel('C:\\\\Users\\\\Manish\\\\Desktop\\\\PIN\\\\test.xlsx')"
   ]
  },
  {
   "cell_type": "code",
   "execution_count": 28,
   "metadata": {},
   "outputs": [],
   "source": [
    "df_tbm.fillna(\"NULL\", inplace=True)"
   ]
  },
  {
   "cell_type": "code",
   "execution_count": 29,
   "metadata": {},
   "outputs": [
    {
     "ename": "ValueError",
     "evalue": "Cannot mask with non-boolean array containing NA / NaN values",
     "output_type": "error",
     "traceback": [
      "\u001b[1;31m---------------------------------------------------------------------------\u001b[0m",
      "\u001b[1;31mValueError\u001b[0m                                Traceback (most recent call last)",
      "\u001b[1;32m<ipython-input-29-88d7c58a6789>\u001b[0m in \u001b[0;36m<module>\u001b[1;34m\u001b[0m\n\u001b[1;32m----> 1\u001b[1;33m \u001b[0mdf_tbm\u001b[0m\u001b[1;33m[\u001b[0m\u001b[0mdf_tbm\u001b[0m\u001b[1;33m[\u001b[0m\u001b[1;34m'ADDRESS'\u001b[0m\u001b[1;33m]\u001b[0m\u001b[1;33m.\u001b[0m\u001b[0mstr\u001b[0m\u001b[1;33m.\u001b[0m\u001b[0mcontains\u001b[0m\u001b[1;33m(\u001b[0m\u001b[1;34m'WADIKISHANPURA'\u001b[0m\u001b[1;33m)\u001b[0m\u001b[1;33m]\u001b[0m\u001b[1;33m\u001b[0m\u001b[1;33m\u001b[0m\u001b[0m\n\u001b[0m",
      "\u001b[1;32m~\\anaconda3\\lib\\site-packages\\pandas\\core\\frame.py\u001b[0m in \u001b[0;36m__getitem__\u001b[1;34m(self, key)\u001b[0m\n\u001b[0;32m   2894\u001b[0m \u001b[1;33m\u001b[0m\u001b[0m\n\u001b[0;32m   2895\u001b[0m         \u001b[1;31m# Do we have a (boolean) 1d indexer?\u001b[0m\u001b[1;33m\u001b[0m\u001b[1;33m\u001b[0m\u001b[1;33m\u001b[0m\u001b[0m\n\u001b[1;32m-> 2896\u001b[1;33m         \u001b[1;32mif\u001b[0m \u001b[0mcom\u001b[0m\u001b[1;33m.\u001b[0m\u001b[0mis_bool_indexer\u001b[0m\u001b[1;33m(\u001b[0m\u001b[0mkey\u001b[0m\u001b[1;33m)\u001b[0m\u001b[1;33m:\u001b[0m\u001b[1;33m\u001b[0m\u001b[1;33m\u001b[0m\u001b[0m\n\u001b[0m\u001b[0;32m   2897\u001b[0m             \u001b[1;32mreturn\u001b[0m \u001b[0mself\u001b[0m\u001b[1;33m.\u001b[0m\u001b[0m_getitem_bool_array\u001b[0m\u001b[1;33m(\u001b[0m\u001b[0mkey\u001b[0m\u001b[1;33m)\u001b[0m\u001b[1;33m\u001b[0m\u001b[1;33m\u001b[0m\u001b[0m\n\u001b[0;32m   2898\u001b[0m \u001b[1;33m\u001b[0m\u001b[0m\n",
      "\u001b[1;32m~\\anaconda3\\lib\\site-packages\\pandas\\core\\common.py\u001b[0m in \u001b[0;36mis_bool_indexer\u001b[1;34m(key)\u001b[0m\n\u001b[0;32m    132\u001b[0m                 \u001b[0mna_msg\u001b[0m \u001b[1;33m=\u001b[0m \u001b[1;34m\"Cannot mask with non-boolean array containing NA / NaN values\"\u001b[0m\u001b[1;33m\u001b[0m\u001b[1;33m\u001b[0m\u001b[0m\n\u001b[0;32m    133\u001b[0m                 \u001b[1;32mif\u001b[0m \u001b[0misna\u001b[0m\u001b[1;33m(\u001b[0m\u001b[0mkey\u001b[0m\u001b[1;33m)\u001b[0m\u001b[1;33m.\u001b[0m\u001b[0many\u001b[0m\u001b[1;33m(\u001b[0m\u001b[1;33m)\u001b[0m\u001b[1;33m:\u001b[0m\u001b[1;33m\u001b[0m\u001b[1;33m\u001b[0m\u001b[0m\n\u001b[1;32m--> 134\u001b[1;33m                     \u001b[1;32mraise\u001b[0m \u001b[0mValueError\u001b[0m\u001b[1;33m(\u001b[0m\u001b[0mna_msg\u001b[0m\u001b[1;33m)\u001b[0m\u001b[1;33m\u001b[0m\u001b[1;33m\u001b[0m\u001b[0m\n\u001b[0m\u001b[0;32m    135\u001b[0m                 \u001b[1;32mreturn\u001b[0m \u001b[1;32mFalse\u001b[0m\u001b[1;33m\u001b[0m\u001b[1;33m\u001b[0m\u001b[0m\n\u001b[0;32m    136\u001b[0m             \u001b[1;32mreturn\u001b[0m \u001b[1;32mTrue\u001b[0m\u001b[1;33m\u001b[0m\u001b[1;33m\u001b[0m\u001b[0m\n",
      "\u001b[1;31mValueError\u001b[0m: Cannot mask with non-boolean array containing NA / NaN values"
     ]
    }
   ],
   "source": [
    "df_tbm[df_tbm['ADDRESS'].str.contains('WADIKISHANPURA')]"
   ]
  },
  {
   "cell_type": "code",
   "execution_count": 32,
   "metadata": {},
   "outputs": [
    {
     "data": {
      "text/html": [
       "<div>\n",
       "<style scoped>\n",
       "    .dataframe tbody tr th:only-of-type {\n",
       "        vertical-align: middle;\n",
       "    }\n",
       "\n",
       "    .dataframe tbody tr th {\n",
       "        vertical-align: top;\n",
       "    }\n",
       "\n",
       "    .dataframe thead th {\n",
       "        text-align: right;\n",
       "    }\n",
       "</style>\n",
       "<table border=\"1\" class=\"dataframe\">\n",
       "  <thead>\n",
       "    <tr style=\"text-align: right;\">\n",
       "      <th></th>\n",
       "      <th>SN</th>\n",
       "      <th>ADDRESS</th>\n",
       "      <th>CITY</th>\n",
       "      <th>PIN</th>\n",
       "    </tr>\n",
       "  </thead>\n",
       "  <tbody>\n",
       "    <tr>\n",
       "      <th>0</th>\n",
       "      <td>1</td>\n",
       "      <td>8/C, KHODAGANJ ROAD, KOLKATA MUNICIPAL CORPORA...</td>\n",
       "      <td>BELIAGHATA, WEST BENGAL</td>\n",
       "      <td>700010</td>\n",
       "    </tr>\n",
       "    <tr>\n",
       "      <th>1</th>\n",
       "      <td>2</td>\n",
       "      <td>5/1, CLIVE ROW, 1ST FLOOR ROOM, NO. 24</td>\n",
       "      <td>KOLKATA, WEST BENGAL</td>\n",
       "      <td>700001</td>\n",
       "    </tr>\n",
       "    <tr>\n",
       "      <th>2</th>\n",
       "      <td>3</td>\n",
       "      <td>ANANDA MARKET, CHAKDA ROAD, BONGAON, (N)24PGS</td>\n",
       "      <td>WEST BENGAL</td>\n",
       "      <td>743235</td>\n",
       "    </tr>\n",
       "    <tr>\n",
       "      <th>3</th>\n",
       "      <td>4</td>\n",
       "      <td>37, KAILASH DAS ROAD, POST.GARIFA, 24PGS. (N)</td>\n",
       "      <td>WEST BENGAL</td>\n",
       "      <td>743166</td>\n",
       "    </tr>\n",
       "    <tr>\n",
       "      <th>4</th>\n",
       "      <td>5</td>\n",
       "      <td>9, POLLOCK STREET, 1ST FLOOR</td>\n",
       "      <td>CALCUTTA (W.B.)</td>\n",
       "      <td>700001</td>\n",
       "    </tr>\n",
       "    <tr>\n",
       "      <th>...</th>\n",
       "      <td>...</td>\n",
       "      <td>...</td>\n",
       "      <td>...</td>\n",
       "      <td>...</td>\n",
       "    </tr>\n",
       "    <tr>\n",
       "      <th>19494</th>\n",
       "      <td>19504</td>\n",
       "      <td>5-9-109, SIKH WADIKISHANPURA, HANAMKONDA</td>\n",
       "      <td>WARANGAL</td>\n",
       "      <td>NULL</td>\n",
       "    </tr>\n",
       "    <tr>\n",
       "      <th>19495</th>\n",
       "      <td>19505</td>\n",
       "      <td>1/27 MURUGESAPURAM PARAMANKURICHI, TIRUCHENDUR...</td>\n",
       "      <td>THOOTHUKUDI, TAMIL NADU</td>\n",
       "      <td>NULL</td>\n",
       "    </tr>\n",
       "    <tr>\n",
       "      <th>19496</th>\n",
       "      <td>19506</td>\n",
       "      <td>WZ-619 FIRST FLOOR SHIV NAGAR, NEW DELHI</td>\n",
       "      <td>DELHI</td>\n",
       "      <td>NULL</td>\n",
       "    </tr>\n",
       "    <tr>\n",
       "      <th>19497</th>\n",
       "      <td>19507</td>\n",
       "      <td>22099 BONDA MARKET, KOLATHUR</td>\n",
       "      <td>METTUR</td>\n",
       "      <td>NULL</td>\n",
       "    </tr>\n",
       "    <tr>\n",
       "      <th>19498</th>\n",
       "      <td>19508</td>\n",
       "      <td>417, FLOOR-4, PLOT-CS 1487 PRASAD CHAMBER, TAT...</td>\n",
       "      <td>Mumbai</td>\n",
       "      <td>NULL</td>\n",
       "    </tr>\n",
       "  </tbody>\n",
       "</table>\n",
       "<p>19499 rows × 4 columns</p>\n",
       "</div>"
      ],
      "text/plain": [
       "          SN                                            ADDRESS  \\\n",
       "0          1  8/C, KHODAGANJ ROAD, KOLKATA MUNICIPAL CORPORA...   \n",
       "1          2             5/1, CLIVE ROW, 1ST FLOOR ROOM, NO. 24   \n",
       "2          3      ANANDA MARKET, CHAKDA ROAD, BONGAON, (N)24PGS   \n",
       "3          4      37, KAILASH DAS ROAD, POST.GARIFA, 24PGS. (N)   \n",
       "4          5                       9, POLLOCK STREET, 1ST FLOOR   \n",
       "...      ...                                                ...   \n",
       "19494  19504           5-9-109, SIKH WADIKISHANPURA, HANAMKONDA   \n",
       "19495  19505  1/27 MURUGESAPURAM PARAMANKURICHI, TIRUCHENDUR...   \n",
       "19496  19506           WZ-619 FIRST FLOOR SHIV NAGAR, NEW DELHI   \n",
       "19497  19507                       22099 BONDA MARKET, KOLATHUR   \n",
       "19498  19508  417, FLOOR-4, PLOT-CS 1487 PRASAD CHAMBER, TAT...   \n",
       "\n",
       "                          CITY     PIN  \n",
       "0      BELIAGHATA, WEST BENGAL  700010  \n",
       "1         KOLKATA, WEST BENGAL  700001  \n",
       "2                  WEST BENGAL  743235  \n",
       "3                  WEST BENGAL  743166  \n",
       "4              CALCUTTA (W.B.)  700001  \n",
       "...                        ...     ...  \n",
       "19494                 WARANGAL    NULL  \n",
       "19495  THOOTHUKUDI, TAMIL NADU    NULL  \n",
       "19496                    DELHI    NULL  \n",
       "19497                   METTUR    NULL  \n",
       "19498                   Mumbai    NULL  \n",
       "\n",
       "[19499 rows x 4 columns]"
      ]
     },
     "execution_count": 32,
     "metadata": {},
     "output_type": "execute_result"
    }
   ],
   "source": [
    "df_tbm[df_tbm.notna()]"
   ]
  },
  {
   "cell_type": "code",
   "execution_count": null,
   "metadata": {},
   "outputs": [],
   "source": []
  }
 ],
 "metadata": {
  "kernelspec": {
   "display_name": "Python 3",
   "language": "python",
   "name": "python3"
  },
  "language_info": {
   "codemirror_mode": {
    "name": "ipython",
    "version": 3
   },
   "file_extension": ".py",
   "mimetype": "text/x-python",
   "name": "python",
   "nbconvert_exporter": "python",
   "pygments_lexer": "ipython3",
   "version": "3.7.6"
  }
 },
 "nbformat": 4,
 "nbformat_minor": 4
}
